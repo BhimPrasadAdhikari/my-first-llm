{
  "nbformat": 4,
  "nbformat_minor": 0,
  "metadata": {
    "colab": {
      "provenance": [],
      "authorship_tag": "ABX9TyORS8eB7DO3l6NNFu0hkZPC",
      "include_colab_link": true
    },
    "kernelspec": {
      "name": "python3",
      "display_name": "Python 3"
    },
    "language_info": {
      "name": "python"
    }
  },
  "cells": [
    {
      "cell_type": "markdown",
      "metadata": {
        "id": "view-in-github",
        "colab_type": "text"
      },
      "source": [
        "<a href=\"https://colab.research.google.com/github/BhimPrasadAdhikari/my-first-llm/blob/main/my-llm.ipynb\" target=\"_parent\"><img src=\"https://colab.research.google.com/assets/colab-badge.svg\" alt=\"Open In Colab\"/></a>"
      ]
    },
    {
      "cell_type": "code",
      "execution_count": 2,
      "metadata": {
        "id": "NYkbrpxikwqM"
      },
      "outputs": [],
      "source": [
        "import tensorflow as tf\n",
        "import numpy as np\n",
        "from tf_keras.layers import Dense"
      ]
    },
    {
      "cell_type": "code",
      "source": [
        "l0 = Dense(units=1, input_shape=[1])"
      ],
      "metadata": {
        "id": "eaVhTLkPmOlt"
      },
      "execution_count": null,
      "outputs": []
    }
  ]
}