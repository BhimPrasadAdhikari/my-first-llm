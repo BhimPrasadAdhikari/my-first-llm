{
  "nbformat": 4,
  "nbformat_minor": 0,
  "metadata": {
    "colab": {
      "provenance": [],
      "authorship_tag": "ABX9TyMLn5VnO1NPlPfNncH4cIMN",
      "include_colab_link": true
    },
    "kernelspec": {
      "name": "python3",
      "display_name": "Python 3"
    },
    "language_info": {
      "name": "python"
    }
  },
  "cells": [
    {
      "cell_type": "markdown",
      "metadata": {
        "id": "view-in-github",
        "colab_type": "text"
      },
      "source": [
        "<a href=\"https://colab.research.google.com/github/BhimPrasadAdhikari/my-first-llm/blob/main/my-llm.ipynb\" target=\"_parent\"><img src=\"https://colab.research.google.com/assets/colab-badge.svg\" alt=\"Open In Colab\"/></a>"
      ]
    },
    {
      "cell_type": "code",
      "execution_count": 14,
      "metadata": {
        "id": "NYkbrpxikwqM"
      },
      "outputs": [],
      "source": [
        "import tensorflow as tf\n",
        "from tf_keras import Sequential, datasets\n",
        "from tf_keras.layers import Dense, Flatten"
      ]
    },
    {
      "cell_type": "code",
      "source": [
        "data = datasets.fashion_mnist\n",
        "(training_images, training_labels), (test_images, test_label) = data.load_data()"
      ],
      "metadata": {
        "id": "eaVhTLkPmOlt"
      },
      "execution_count": null,
      "outputs": []
    },
    {
      "cell_type": "markdown",
      "source": [
        "Normalizing images to 0 & 1 pixel value\n",
        "\n",
        "```\n",
        "# This is formatted as code\n",
        "```\n",
        "\n"
      ],
      "metadata": {
        "id": "JiojLaoftMy2"
      }
    },
    {
      "cell_type": "code",
      "source": [
        "training_images = training_images / 255.0\n",
        "test_images = test_images / 255.0"
      ],
      "metadata": {
        "id": "UDF6VoWPm0L9"
      },
      "execution_count": 16,
      "outputs": []
    },
    {
      "cell_type": "code",
      "source": [
        "model = Sequential([\n",
        "    Flatten(input_shape=(28,28)),\n",
        "    Dense(128, activation=tf.nn.relu),\n",
        "    Dense(10, activation=tf.nn.softmax)\n",
        "])"
      ],
      "metadata": {
        "id": "gBmXxqgUtbQZ"
      },
      "execution_count": 18,
      "outputs": []
    },
    {
      "cell_type": "markdown",
      "source": [
        "1. First layer is the input layer. 28*28 1.pixels are arranged in a single array ie flatten to 1-D.\n",
        "\n",
        "2. Second layer is the dense layer consisting of 128 neurons ie each pixel is connected to each neuron(many to one).\n",
        "  *  uses Rectified Linear Unit(relu) it is f(x)=max(0,x)\n",
        "  * basically it returns value 0 - positive\n",
        "\n",
        "3. Third layer is the output layer. It consists of fully connected 10 neurons.\n",
        "  * uses softmax function as activation\n",
        "  it is f(x)= e^x1 / ∑ e^x(2,3...10)\n",
        "  * 10 neurons spit out the the probalilty and this activation helps to distribute probability to the all 10 numeric values.\n",
        "\n",
        "\n",
        "\n",
        "\n",
        "  \n",
        "\n"
      ],
      "metadata": {
        "id": "tpxWkZpItz5g"
      }
    },
    {
      "cell_type": "code",
      "source": [],
      "metadata": {
        "id": "yDrE7WBCuDqs"
      },
      "execution_count": null,
      "outputs": []
    }
  ]
}