{
  "nbformat": 4,
  "nbformat_minor": 0,
  "metadata": {
    "colab": {
      "provenance": [],
      "authorship_tag": "ABX9TyOYMbAxpnXTHssunKGzod0b",
      "include_colab_link": true
    },
    "kernelspec": {
      "name": "python3",
      "display_name": "Python 3"
    },
    "language_info": {
      "name": "python"
    }
  },
  "cells": [
    {
      "cell_type": "markdown",
      "metadata": {
        "id": "view-in-github",
        "colab_type": "text"
      },
      "source": [
        "<a href=\"https://colab.research.google.com/github/BhimPrasadAdhikari/my-first-llm/blob/main/my-llm.ipynb\" target=\"_parent\"><img src=\"https://colab.research.google.com/assets/colab-badge.svg\" alt=\"Open In Colab\"/></a>"
      ]
    },
    {
      "cell_type": "code",
      "execution_count": 4,
      "metadata": {
        "id": "NYkbrpxikwqM"
      },
      "outputs": [],
      "source": [
        "import tensorflow as tf\n",
        "import numpy as np\n",
        "from tf_keras import Sequential\n",
        "from tf_keras.layers import Dense"
      ]
    },
    {
      "cell_type": "code",
      "source": [
        "l0 = Dense(units=1, input_shape=[1])"
      ],
      "metadata": {
        "id": "eaVhTLkPmOlt"
      },
      "execution_count": 7,
      "outputs": []
    },
    {
      "cell_type": "code",
      "source": [
        "model = Sequential([l0])"
      ],
      "metadata": {
        "id": "UDF6VoWPm0L9"
      },
      "execution_count": 8,
      "outputs": []
    },
    {
      "cell_type": "code",
      "source": [
        "model.compile(optimizer='sgd', loss='mean_squared_error')"
      ],
      "metadata": {
        "id": "hP-qfRrtntpW"
      },
      "execution_count": 9,
      "outputs": []
    },
    {
      "cell_type": "code",
      "source": [
        "xs = np.array([-1.0,0.0,1.0,2.0,3.0,4.0],dtype=float)\n",
        "ys = np.array([-3.0,-1.0,1.0,3.0,5.0,7.0],dtype=float)\n"
      ],
      "metadata": {
        "id": "EouRkq2KovxF"
      },
      "execution_count": 10,
      "outputs": []
    },
    {
      "cell_type": "code",
      "source": [
        "model.fit(xs, ys, epochs=500)"
      ],
      "metadata": {
        "collapsed": true,
        "id": "Rbf7euUMpbB-"
      },
      "execution_count": null,
      "outputs": []
    },
    {
      "cell_type": "code",
      "source": [
        "print(\"I learned the m and c in y=mx+c, i learned the two parameters here: {}\".format(l0.get_weights()))"
      ],
      "metadata": {
        "id": "Akf_DbOIprx1",
        "outputId": "f09a2623-c553-4cbc-851b-d047737503b6",
        "colab": {
          "base_uri": "https://localhost:8080/"
        }
      },
      "execution_count": 13,
      "outputs": [
        {
          "output_type": "stream",
          "name": "stdout",
          "text": [
            "I learned the m and c in y=mx+c, i learned the two parameters here: [array([[1.9978553]], dtype=float32), array([-0.99335027], dtype=float32)]\n"
          ]
        }
      ]
    }
  ]
}