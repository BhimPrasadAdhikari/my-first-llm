{
  "nbformat": 4,
  "nbformat_minor": 0,
  "metadata": {
    "colab": {
      "provenance": [],
      "authorship_tag": "ABX9TyNgY+TudTMemCtVQRo57L/b",
      "include_colab_link": true
    },
    "kernelspec": {
      "name": "python3",
      "display_name": "Python 3"
    },
    "language_info": {
      "name": "python"
    }
  },
  "cells": [
    {
      "cell_type": "markdown",
      "metadata": {
        "id": "view-in-github",
        "colab_type": "text"
      },
      "source": [
        "<a href=\"https://colab.research.google.com/github/BhimPrasadAdhikari/my-first-llm/blob/main/my-llm.ipynb\" target=\"_parent\"><img src=\"https://colab.research.google.com/assets/colab-badge.svg\" alt=\"Open In Colab\"/></a>"
      ]
    },
    {
      "cell_type": "code",
      "execution_count": null,
      "metadata": {
        "id": "NYkbrpxikwqM"
      },
      "outputs": [],
      "source": [
        "import tensorflow as tf\n",
        "from tf_keras import Sequential, datasets\n",
        "from tf_keras.layers import Dense, Flatten"
      ]
    },
    {
      "cell_type": "code",
      "source": [
        "data = datasets.fashion_mnist\n",
        "(training_images, training_labels), (test_images, test_label) = data.load_data()"
      ],
      "metadata": {
        "id": "eaVhTLkPmOlt"
      },
      "execution_count": null,
      "outputs": []
    },
    {
      "cell_type": "markdown",
      "source": [
        "Normalizing images to 0 & 1 pixel value\n",
        "\n",
        "```\n",
        "# This is formatted as code\n",
        "```\n",
        "\n"
      ],
      "metadata": {
        "id": "JiojLaoftMy2"
      }
    },
    {
      "cell_type": "code",
      "source": [
        "training_images = training_images / 255.0\n",
        "test_images = test_images / 255.0"
      ],
      "metadata": {
        "id": "UDF6VoWPm0L9"
      },
      "execution_count": null,
      "outputs": []
    },
    {
      "cell_type": "code",
      "source": [
        "model = Sequential([\n",
        "    Flatten(input_shape=(28,28)),\n",
        "    Dense(128, activation=tf.nn.relu),\n",
        "    Dense(10, activation=tf.nn.softmax)\n",
        "])"
      ],
      "metadata": {
        "id": "gBmXxqgUtbQZ"
      },
      "execution_count": null,
      "outputs": []
    },
    {
      "cell_type": "markdown",
      "source": [
        "1. First layer is the input layer. 28*28 1.pixels are arranged in a single array ie flatten to 1-D.\n",
        "\n",
        "2. Second layer is the dense layer consisting of 128 neurons ie each pixel is connected to each neuron(many to one).\n",
        "  *  uses Rectified Linear Unit(relu) it is f(x)=max(0,x)\n",
        "  * basically it returns value 0 - positive\n",
        "\n",
        "3. Third layer is the output layer. It consists of fully connected 10 neurons.\n",
        "  * uses softmax function as activation\n",
        "  it is f(x)= e^x1 / ∑ e^x(2,3...10)\n",
        "  * 10 neurons spit out the the probalilty and this activation helps to distribute probability to the all 10 numeric values.\n",
        "\n",
        "\n",
        "\n",
        "\n",
        "  \n",
        "\n"
      ],
      "metadata": {
        "id": "tpxWkZpItz5g"
      }
    },
    {
      "cell_type": "code",
      "source": [
        "model.compile(optimizer='adam', loss='sparse_categorical_crossentropy', metrics=[\"accuracy\"])"
      ],
      "metadata": {
        "id": "yDrE7WBCuDqs"
      },
      "execution_count": null,
      "outputs": []
    },
    {
      "cell_type": "code",
      "source": [],
      "metadata": {
        "id": "x0NYTSL_8haN",
        "outputId": "dc867396-9a45-4f39-8378-290e6fb76e5c",
        "colab": {
          "base_uri": "https://localhost:8080/"
        }
      },
      "execution_count": null,
      "outputs": [
        {
          "output_type": "execute_result",
          "data": {
            "text/plain": [
              "(60000, 28, 28)"
            ]
          },
          "metadata": {},
          "execution_count": 21
        }
      ]
    },
    {
      "cell_type": "code",
      "source": [
        "model.fit(training_images, training_labels, epochs=5)"
      ],
      "metadata": {
        "id": "6_IsnAZq8Orp",
        "outputId": "3338f247-e7dc-4626-abfd-ac1fda8d2d75",
        "colab": {
          "base_uri": "https://localhost:8080/"
        }
      },
      "execution_count": null,
      "outputs": [
        {
          "output_type": "stream",
          "name": "stdout",
          "text": [
            "Epoch 1/5\n",
            "1875/1875 [==============================] - 6s 3ms/step - loss: 0.2851 - accuracy: 0.8949\n",
            "Epoch 2/5\n",
            "1875/1875 [==============================] - 6s 3ms/step - loss: 0.2709 - accuracy: 0.8999\n",
            "Epoch 3/5\n",
            "1875/1875 [==============================] - 5s 3ms/step - loss: 0.2591 - accuracy: 0.9032\n",
            "Epoch 4/5\n",
            "1875/1875 [==============================] - 7s 4ms/step - loss: 0.2486 - accuracy: 0.9070\n",
            "Epoch 5/5\n",
            "1875/1875 [==============================] - 5s 3ms/step - loss: 0.2410 - accuracy: 0.9102\n"
          ]
        },
        {
          "output_type": "execute_result",
          "data": {
            "text/plain": [
              "<tf_keras.src.callbacks.History at 0x787f2de95b90>"
            ]
          },
          "metadata": {},
          "execution_count": 25
        }
      ]
    },
    {
      "cell_type": "code",
      "source": [
        "test_images.shape"
      ],
      "metadata": {
        "id": "EU4PVXyw-oXP",
        "outputId": "e1961215-10be-423e-8428-c3cfc96619a6",
        "colab": {
          "base_uri": "https://localhost:8080/"
        }
      },
      "execution_count": null,
      "outputs": [
        {
          "output_type": "execute_result",
          "data": {
            "text/plain": [
              "(10000, 28, 28)"
            ]
          },
          "metadata": {},
          "execution_count": 29
        }
      ]
    },
    {
      "cell_type": "markdown",
      "source": [],
      "metadata": {
        "id": "PbH2dE2d-znX"
      }
    },
    {
      "cell_type": "code",
      "source": [
        "test_label.shape"
      ],
      "metadata": {
        "id": "sFb8N8tb_J1D",
        "outputId": "764cd9ce-258e-4880-a324-f47b08c92e53",
        "colab": {
          "base_uri": "https://localhost:8080/"
        }
      },
      "execution_count": null,
      "outputs": [
        {
          "output_type": "execute_result",
          "data": {
            "text/plain": [
              "(10000,)"
            ]
          },
          "metadata": {},
          "execution_count": 36
        }
      ]
    },
    {
      "cell_type": "code",
      "source": [
        "classifications= model.predict(test_images)\n",
        "print(classifications[0])\n",
        "print(test_label[0])"
      ],
      "metadata": {
        "id": "_6yqh7Tk-h_R",
        "outputId": "c18c7ddd-fb72-4998-99f6-0f1e2d9d6225",
        "colab": {
          "base_uri": "https://localhost:8080/"
        }
      },
      "execution_count": null,
      "outputs": [
        {
          "output_type": "stream",
          "name": "stdout",
          "text": [
            "313/313 [==============================] - 0s 1ms/step\n",
            "[9.7126382e-08 1.0877104e-10 6.4578126e-10 1.0977614e-12 1.7186772e-09\n",
            " 1.5597625e-04 7.2577916e-10 5.5664130e-03 6.5998551e-10 9.9427748e-01]\n",
            "9\n"
          ]
        }
      ]
    },
    {
      "cell_type": "markdown",
      "source": [
        "# Convolutional neural network"
      ],
      "metadata": {
        "id": "_GpV05jZR_KN"
      }
    },
    {
      "cell_type": "code",
      "source": [
        "import tensorflow as tf\n",
        "from tf_keras import datasets, models\n",
        "from tf_keras.layers import Flatten, Dense, Conv2D, MaxPooling2D\n",
        "\n"
      ],
      "metadata": {
        "id": "X5EFFGo_SMJ6"
      },
      "execution_count": null,
      "outputs": []
    }
  ]
}