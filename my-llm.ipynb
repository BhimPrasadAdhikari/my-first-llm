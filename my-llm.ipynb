{
  "nbformat": 4,
  "nbformat_minor": 0,
  "metadata": {
    "colab": {
      "provenance": [],
      "authorship_tag": "ABX9TyP/L0u7u8YI6BmKxnb3kQ2B",
      "include_colab_link": true
    },
    "kernelspec": {
      "name": "python3",
      "display_name": "Python 3"
    },
    "language_info": {
      "name": "python"
    }
  },
  "cells": [
    {
      "cell_type": "markdown",
      "metadata": {
        "id": "view-in-github",
        "colab_type": "text"
      },
      "source": [
        "<a href=\"https://colab.research.google.com/github/BhimPrasadAdhikari/my-first-llm/blob/main/my-llm.ipynb\" target=\"_parent\"><img src=\"https://colab.research.google.com/assets/colab-badge.svg\" alt=\"Open In Colab\"/></a>"
      ]
    },
    {
      "cell_type": "code",
      "execution_count": 4,
      "metadata": {
        "id": "NYkbrpxikwqM"
      },
      "outputs": [],
      "source": [
        "import tensorflow as tf\n",
        "import numpy as np\n",
        "from tf_keras import Sequential\n",
        "from tf_keras.layers import Dense"
      ]
    },
    {
      "cell_type": "code",
      "source": [
        "l0 = Dense(units=1, input_shape=[1])"
      ],
      "metadata": {
        "id": "eaVhTLkPmOlt"
      },
      "execution_count": 7,
      "outputs": []
    },
    {
      "cell_type": "code",
      "source": [
        "model = Sequential([l0])"
      ],
      "metadata": {
        "id": "UDF6VoWPm0L9"
      },
      "execution_count": 8,
      "outputs": []
    },
    {
      "cell_type": "code",
      "source": [
        "model.compile(optimizer='sgd', loss='mean_squared_error')"
      ],
      "metadata": {
        "id": "hP-qfRrtntpW"
      },
      "execution_count": 9,
      "outputs": []
    }
  ]
}